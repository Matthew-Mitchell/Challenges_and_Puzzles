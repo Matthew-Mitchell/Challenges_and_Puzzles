{
 "cells": [
  {
   "cell_type": "code",
   "execution_count": 3,
   "metadata": {
    "collapsed": true
   },
   "outputs": [],
   "source": [
    "import numpy as np"
   ]
  },
  {
   "cell_type": "code",
   "execution_count": 6,
   "metadata": {
    "collapsed": true
   },
   "outputs": [],
   "source": [
    "#Number of ways to arrange ups and downs with no restrictions!!!\n",
    "#Be careful; this is a building block function used below\n",
    "#This function itself allows for subteranean mountains!\n",
    "def arrangements(u,d):\n",
    "    raw_permutations = np.math.factorial(u+d)\n",
    "    portion_duplicates = np.math.factorial(u)*np.math.factorial(d)\n",
    "    return raw_permutations/portion_duplicates\n",
    "    "
   ]
  },
  {
   "cell_type": "code",
   "execution_count": 19,
   "metadata": {
    "collapsed": true
   },
   "outputs": [],
   "source": [
    "memo_ways = {2:1, 4:2}\n",
    "memo_cum = {2:1, 4:3}"
   ]
  },
  {
   "cell_type": "code",
   "execution_count": 25,
   "metadata": {
    "collapsed": true
   },
   "outputs": [],
   "source": [
    "def memoize(function):\n",
    "  memo = {}\n",
    "  def wrapper(*args):\n",
    "    if args in memo:\n",
    "      return memo[args]\n",
    "    else:\n",
    "      rv = function(*args)\n",
    "      memo[args] = rv\n",
    "      return rv\n",
    "  return wrapper"
   ]
  },
  {
   "cell_type": "code",
   "execution_count": 23,
   "metadata": {
    "collapsed": false
   },
   "outputs": [],
   "source": [
    "@memoize\n",
    "def pop_mountain(n):\n",
    "    if not n in memo_ways:\n",
    "        #We can always combine previous mountains; a 2 and a 4 make a 6 etc.\n",
    "        combos_of_old = sum([memo_ways[(n-x)]*memo_ways[x] for x in range(2,n,2)])\n",
    "        #The only true new and mountains that are those\n",
    "        #that are not combinations of smaller mountains.\n",
    "        #As such, these new mountains will only touch the ground at the start and end.\n",
    "        #This also means that the second popsicle must go upwards\n",
    "        #(otherwise we'd be back on the ground and would be a combination of small mountains)\n",
    "        #and similarly the second to last popsilce must also go downwards.\n",
    "        #This leaves us with (n-4) popsicles, half of which must go up and half must go down.\n",
    "        #We can then imagine the total way of arranging (n-4)/2 and (n-4)/2 popsicles\n",
    "        #minus those that force us to touch the ground.\n",
    "        total_new = np.math.factorial(n-4)/(np.math.factorial(n/2-2)**2)\n",
    "        #For example, after our initial UP,UP we don't want 2 Downs; we'll again be on the ground\n",
    "        #and thus a smaller mountain which we accounted for in combos_of_old above.\n",
    "        #Similarly, after the initial UP,UP we can do UDU... or DUD...\n",
    "        #Essentially we are making arrangements with 2 more downs than ups followed by all combinations\n",
    "        #of the remaining. Any of these arrangments will be invalid as they will take us to ground-level.\n",
    "        midu = n/2-2 #This is the number of Ups in the middle. The number of Downs in the middle is equivalent.\n",
    "        invalid_new = sum([(arrangements(d,d+2)*arrangements(midu-d, midu-(d+2))) for d in range(0,midu)])\n",
    "        new_ways = total_new - invalid_new\n",
    "        memo_ways[n] = combos_of_old + new_ways\n",
    "    memo_cum = memo_cum(n-2) + memo_ways(n)\n",
    "    return memo_cum[n]"
   ]
  },
  {
   "cell_type": "markdown",
   "metadata": {},
   "source": [
    "pop_mountain(4)"
   ]
  },
  {
   "cell_type": "code",
   "execution_count": null,
   "metadata": {
    "collapsed": true
   },
   "outputs": [],
   "source": []
  }
 ],
 "metadata": {
  "kernelspec": {
   "display_name": "Python 2",
   "language": "python",
   "name": "python2"
  },
  "language_info": {
   "codemirror_mode": {
    "name": "ipython",
    "version": 2
   },
   "file_extension": ".py",
   "mimetype": "text/x-python",
   "name": "python",
   "nbconvert_exporter": "python",
   "pygments_lexer": "ipython2",
   "version": "2.7.12"
  }
 },
 "nbformat": 4,
 "nbformat_minor": 0
}
