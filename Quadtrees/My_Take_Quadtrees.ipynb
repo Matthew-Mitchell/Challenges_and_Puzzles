{
 "cells": [
  {
   "cell_type": "markdown",
   "metadata": {},
   "source": [
    "Name: Matthew Mitchell\n",
    "Date: 10/24/16"
   ]
  },
  {
   "cell_type": "markdown",
   "metadata": {},
   "source": [
    "##2 Quadtrees: 40\n"
   ]
  },
  {
   "cell_type": "markdown",
   "metadata": {},
   "source": [
    "Quadtrees are a form of simplified clustering algorithm.\n",
    "Given a set of features S ∈ R2 we seek to partition the space into segments \n",
    "    such that no more than k points are members of any single segment.\n",
    "In quad trees this is done by recursively splitting the space into quadrants until this condition is met.\n",
    "Write a program that allows a user to specify the number of points to be separated n and the threshold k.\n",
    "Upon completion, your program should plot the space, segments, and points,\n",
    "    it should report the total number of segments as well as the area of the space \n",
    "    with the most densely packed sub-segments (this definition is entirely up to you).\n",
    "The two features used in your program (s1, s2 ∈ S) can be randomly generated within.\n",
    "You may use the programming language if your choice to solve this problem.\n",
    "Please provide your code so we can test your function.\n",
    "Also please provide an estimate of your function’s complexity."
   ]
  },
  {
   "cell_type": "code",
   "execution_count": 134,
   "metadata": {
    "collapsed": false
   },
   "outputs": [
    {
     "name": "stderr",
     "output_type": "stream",
     "text": [
      ":0: FutureWarning: IPython widgets are experimental and may change in the future.\n"
     ]
    }
   ],
   "source": [
    "import numpy as np\n",
    "import matplotlib.pyplot as plt\n",
    "import matplotlib.patches as patches\n",
    "import seaborn as sns\n",
    "%matplotlib inline"
   ]
  },
  {
   "cell_type": "markdown",
   "metadata": {},
   "source": [
    "###For each segment/quadrant we need the following:\n",
    "####Bounds: Xmin, Xmax, Ymin, Ymax\n",
    "####Points within quadrant [(s11, s12)...(sn1, sn2)]"
   ]
  },
  {
   "cell_type": "code",
   "execution_count": 191,
   "metadata": {
    "collapsed": true
   },
   "outputs": [],
   "source": [
    "def quadsplit(Xmin,Xmax,Ymin,Ymax,points,k,final_quadrants):\n",
    "    Xmid = (Xmin + Xmax)/2.0\n",
    "    Ymid = (Ymin + Ymax)/2.0\n",
    "    #Quadrants will be in the form [Xmin, Xmax, Ymin, Ymax, Points, Density, Area]\n",
    "    q1 = [Xmid, Xmax, Ymid, Ymax, [], 0, 0]\n",
    "    q2 = [Xmin, Xmid, Ymid, Ymax, [], 0, 0]\n",
    "    q3 = [Xmin, Xmid, Ymin, Ymid, [], 0, 0]\n",
    "    q4 = [Xmid, Xmax, Ymin, Ymid, [], 0, 0]\n",
    "    #All Quadrants will be defined as inclusive on the lower bound\n",
    "    #and exclusive on the upper bound.\n",
    "    \n",
    "    #Below we iterate through the list of points from the parent segment\n",
    "    #and assign each point to one of the sub quad-segments. (Linear Time)\n",
    "    for point in points:\n",
    "        if point[0]>=Xmid and point[1]>=Ymid:\n",
    "            q1[4].append(point)\n",
    "        elif point[0]<Xmid and point[1]>=Ymid:\n",
    "            q2[4].append(point)\n",
    "        elif point[0]<Xmid and point[1]<Ymid:\n",
    "            q3[4].append(point)\n",
    "        elif point[0]>=Xmid and point[1]<Ymid:\n",
    "            q4[4].append(point)\n",
    "            \n",
    "    #Finally, now that the points are assigned to segments,\n",
    "    #we determine whether the segment has less than K points \n",
    "    #or needs to be successively redivided via recursion. (Again, linear time)\n",
    "    for q in [q1,q2,q3,q4]:\n",
    "        if len(q[4])>k:\n",
    "            #Recurse!\n",
    "            quadsplit(q[0], q[1], q[2], q[3], q[4], k, final_quadrants)\n",
    "        else:\n",
    "            #Calculate density and save as finalized segment\n",
    "            area = (q[1]-q[0])*(q[3]-q[2])\n",
    "            density = len(q[4])/float(area)\n",
    "            q[5]+= density\n",
    "            q[6]+= area\n",
    "            final_quadrants.append(q)\n",
    "    return final_quadrants"
   ]
  },
  {
   "cell_type": "markdown",
   "metadata": {},
   "source": [
    "##Demonstration of Initial Function"
   ]
  },
  {
   "cell_type": "code",
   "execution_count": 192,
   "metadata": {
    "collapsed": false
   },
   "outputs": [],
   "source": [
    "#quadsplit(Xmin,Xmax,Ymin,Ymax,points,k,final_quadrants)\n",
    "Xmin, Xmax, Ymin, Ymax = -10, 10, -10, 10\n",
    "Points = [(2,2),(3,2),(5,2)]\n",
    "k = 2\n",
    "# test_split = quadsplit(-10,10,-10,10, [(2,2),(3,2),(5,2)], 2, [])\n",
    "test_split = quadsplit(Xmin,Xmax,Ymin,Ymax,Points,k,[])"
   ]
  },
  {
   "cell_type": "code",
   "execution_count": 210,
   "metadata": {
    "collapsed": false
   },
   "outputs": [
    {
     "data": {
      "text/plain": [
       "7"
      ]
     },
     "execution_count": 210,
     "metadata": {},
     "output_type": "execute_result"
    }
   ],
   "source": [
    "len(test_split)"
   ]
  },
  {
   "cell_type": "code",
   "execution_count": 193,
   "metadata": {
    "collapsed": false
   },
   "outputs": [
    {
     "data": {
      "text/plain": [
       "[[5.0, 10, 5.0, 10, [], 0.0, 25.0],\n",
       " [0.0, 5.0, 5.0, 10, [], 0.0, 25.0],\n",
       " [0.0, 5.0, 0.0, 5.0, [(2, 2), (3, 2)], 0.08, 25.0],\n",
       " [5.0, 10, 0.0, 5.0, [(5, 2)], 0.04, 25.0],\n",
       " [-10, 0.0, 0.0, 10, [], 0.0, 100.0],\n",
       " [-10, 0.0, -10, 0.0, [], 0.0, 100.0],\n",
       " [0.0, 10, -10, 0.0, [], 0.0, 100.0]]"
      ]
     },
     "execution_count": 193,
     "metadata": {},
     "output_type": "execute_result"
    }
   ],
   "source": [
    "test_split"
   ]
  },
  {
   "cell_type": "markdown",
   "metadata": {},
   "source": [
    "##Defining Plotting Function"
   ]
  },
  {
   "cell_type": "code",
   "execution_count": 217,
   "metadata": {
    "collapsed": false
   },
   "outputs": [],
   "source": [
    "#Quadrants are of the form: [Xmid, Xmax, Ymid, Ymax, [Points], Density]\n",
    "def plot_segments_and_points(quadrants):\n",
    "    fig = plt.figure()\n",
    "    quadrants = sorted(quadrants, key = lambda x: x[5], reverse=True)\n",
    "    counter = 1\n",
    "    print \"There are\", len(quadrants), \"segments.\", '\\n'\n",
    "    for q in quadrants:\n",
    "        ax = fig.add_subplot(111)\n",
    "        Xmin, Xmax, Ymin, Ymax, points = q[0], q[1], q[2], q[3], q[4]\n",
    "        if counter == 1:\n",
    "            ax.add_patch(patches.Rectangle((Xmin,Ymin),Xmax-Xmin,Ymax-Ymin, fill=False, edgecolor=\"red\", linewidth=3))\n",
    "            print \"The densest segment's area is:\", q[6]\n",
    "            counter +=1\n",
    "        elif counter == 2:\n",
    "            ax.add_patch(patches.Rectangle((Xmin,Ymin),Xmax-Xmin,Ymax-Ymin, fill=False, edgecolor=\"orange\", linewidth=2))\n",
    "            print \"The second densest segment's area is:\", q[6]\n",
    "            counter += 1\n",
    "        elif counter == 3:\n",
    "            ax.add_patch(patches.Rectangle((Xmin,Ymin),Xmax-Xmin,Ymax-Ymin, fill=False, edgecolor=\"yellow\", linewidth=1))\n",
    "            print \"The third densest segment's area is:\", q[6]\n",
    "            counter += 1\n",
    "        elif counter > 3:\n",
    "            ax.add_patch(patches.Rectangle((Xmin,Ymin),Xmax-Xmin,Ymax-Ymin, fill=False))\n",
    "            counter += 1\n",
    "        # plt.Rectangle([2,2],1,1)\n",
    "        plt.scatter([point[0] for point in points],[point[1] for point in points])\n",
    "    return plt.show()"
   ]
  },
  {
   "cell_type": "markdown",
   "metadata": {},
   "source": [
    "##Demonstration of Graphing"
   ]
  },
  {
   "cell_type": "code",
   "execution_count": 218,
   "metadata": {
    "collapsed": false
   },
   "outputs": [
    {
     "name": "stdout",
     "output_type": "stream",
     "text": [
      "There are 7 segments. \n",
      "\n",
      "The densest segment's area is: 25.0\n",
      "The second densest segment's area is: 25.0\n",
      "The third densest segment's area is: 25.0\n"
     ]
    },
    {
     "data": {
      "image/png": "[encoded data removed]",
      "text/plain": [
       "<matplotlib.figure.Figure at 0x11a746650>"
      ]
     },
     "metadata": {},
     "output_type": "display_data"
    }
   ],
   "source": [
    "plot_segments_and_points(test_split)"
   ]
  },
  {
   "cell_type": "markdown",
   "metadata": {},
   "source": [
    "##Final Definition; Linking Previous Functions along with N,K"
   ]
  },
  {
   "cell_type": "code",
   "execution_count": 202,
   "metadata": {
    "collapsed": false
   },
   "outputs": [],
   "source": [
    "def quadtrees(n,k):\n",
    "    #Generate points within a space of arbitrary size (here -million to million)\n",
    "    scale = 10**6\n",
    "    points = 2*scale * np.random.random_sample((n,2)) - scale\n",
    "    Xmin, Xmax, Ymin, Ymax = -scale, scale, -scale, scale\n",
    "    segments_and_points = quadsplit(Xmin, Xmax, Ymin, Ymax, points, k, [])\n",
    "    #Graph results\n",
    "    plot_segments_and_points(segments_and_points)"
   ]
  },
  {
   "cell_type": "markdown",
   "metadata": {},
   "source": [
    "##First Simulation"
   ]
  },
  {
   "cell_type": "code",
   "execution_count": 215,
   "metadata": {
    "collapsed": false
   },
   "outputs": [
    {
     "name": "stdout",
     "output_type": "stream",
     "text": [
      "There are 46 segments.\n",
      "The densest segment's area is: 62500000000.0\n",
      "The second densest segment's area is: 62500000000.0\n",
      "The third densest segment's area is: 62500000000.0\n"
     ]
    },
    {
     "data": {
      "image/png": "[encoded data removed]",
      "text/plain": [
       "<matplotlib.figure.Figure at 0x1115aea10>"
      ]
     },
     "metadata": {},
     "output_type": "display_data"
    }
   ],
   "source": [
    "#100 Points; no more than 5 points per segment:\n",
    "quadtrees(100,5)"
   ]
  },
  {
   "cell_type": "markdown",
   "metadata": {},
   "source": [
    "##Second Simulation"
   ]
  },
  {
   "cell_type": "code",
   "execution_count": 216,
   "metadata": {
    "collapsed": false,
    "scrolled": true
   },
   "outputs": [
    {
     "name": "stdout",
     "output_type": "stream",
     "text": [
      "There are 76 segments.\n",
      "The densest segment's area is: 15625000000.0\n",
      "The second densest segment's area is: 15625000000.0\n",
      "The third densest segment's area is: 15625000000.0\n"
     ]
    },
    {
     "data": {
      "image/png": "[encoded data removed]",
      "text/plain": [
       "<matplotlib.figure.Figure at 0x1110cc410>"
      ]
     },
     "metadata": {},
     "output_type": "display_data"
    }
   ],
   "source": [
    "#200 Points; no more than 5 points per segment:\n",
    "quadtrees(200,5)"
   ]
  },
  {
   "cell_type": "markdown",
   "metadata": {},
   "source": [
    "Estimated Function Complexity:\n",
    "\n",
    "    The Quadtrees Function I designed above works as follows:\n",
    "    1. Randomly generate n points of the form (x,y); linear time based on n\n",
    "    2a. Divide Space into 4 Quadrants; constant time\n",
    "    2b. Assign Points to one of the 4 Quadrants; linear time based on n\n",
    "    2c. Count number of points per quadrant and compare to n; linear time based on n\n",
    "    2d. Recurse as necessary until all segments have less than n points. \n",
    "        *Potentially infinite if there are more than k points that are exactly the same.\n",
    "    3. Sort all segments by density; n*log(n); standard python sort implemented using binary tree\n",
    "    4. Plot points/segments, Print area of densest segments; linear time\n",
    "    \n",
    "    "
   ]
  },
  {
   "cell_type": "markdown",
   "metadata": {},
   "source": [
    "Definition of Space Density:\n",
    "\n",
    "\"Area of the space with the most densely packed sub-segments (this definition is entirely up to you)\"\n",
    "\n",
    "One simplistic defnition of the space with the most desnely packed sub-segments could be the space with the largest number of sub-segments. This however would be trivial as the initial universal space itself would always be the most dense by this definition. Using the above implementation, other definitions fall into similar pitfalls because segments are always equally subdivided into 4 quadrants. For example, if we define density based of sub-segments divided by the area of the larger space, then we can do no better then four adjacent segments at the finest scale; even 16 of these sized segments forming a segment will produce the same segment:area ratio. \n",
    "\n",
    "The implementation shown above highlights the three segments with the hgighest density of points. Due to the recursive nature of the algorithm subdividing segements with greater than k points these regions will usually be of the smallest scale."
   ]
  },
  {
   "cell_type": "markdown",
   "metadata": {},
   "source": [
    "Thanks for taking a look at my work! I enjoyed working on this problem and am happy to submit work examples for any of the other challenges, or clarify any portion above. I look forward to continuing to talk with the Digitas team!\n",
    "\n",
    "-Matt Mitchell"
   ]
  }
 ],
 "metadata": {
  "kernelspec": {
   "display_name": "Python 2",
   "language": "python",
   "name": "python2"
  },
  "language_info": {
   "codemirror_mode": {
    "name": "ipython",
    "version": 2
   },
   "file_extension": ".py",
   "mimetype": "text/x-python",
   "name": "python",
   "nbconvert_exporter": "python",
   "pygments_lexer": "ipython2",
   "version": "2.7.12"
  }
 },
 "nbformat": 4,
 "nbformat_minor": 0
}
