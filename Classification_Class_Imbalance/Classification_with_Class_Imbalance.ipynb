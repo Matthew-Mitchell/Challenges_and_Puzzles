{
 "cells": [
  {
   "cell_type": "markdown",
   "metadata": {},
   "source": [
    "##Predicting Flight Delays"
   ]
  },
  {
   "cell_type": "code",
   "execution_count": 20,
   "metadata": {
    "collapsed": true
   },
   "outputs": [],
   "source": [
    "import pandas as pd\n",
    "import matplotlib.pyplot as plt\n",
    "import numpy as np\n",
    "%matplotlib inline"
   ]
  },
  {
   "cell_type": "code",
   "execution_count": 25,
   "metadata": {
    "collapsed": false
   },
   "outputs": [
    {
     "name": "stdout",
     "output_type": "stream",
     "text": [
      "/Users/matthewmitchell/Downloads\n"
     ]
    }
   ],
   "source": [
    "cd /Users/matthewmitchell/Downloads"
   ]
  },
  {
   "cell_type": "markdown",
   "metadata": {},
   "source": [
    "##Import Data"
   ]
  },
  {
   "cell_type": "code",
   "execution_count": 26,
   "metadata": {
    "collapsed": false
   },
   "outputs": [],
   "source": [
    "df = pd.read_excel('CancelledFlights.xlsx', header=None)"
   ]
  },
  {
   "cell_type": "code",
   "execution_count": 27,
   "metadata": {
    "collapsed": true
   },
   "outputs": [],
   "source": [
    "df.columns=['Canceled','Month','DepartureTime', 'UniqueCarrier', 'SchedElapsedTime','ArrDelay','DepDelay','Distance']"
   ]
  },
  {
   "cell_type": "code",
   "execution_count": 28,
   "metadata": {
    "collapsed": false
   },
   "outputs": [
    {
     "data": {
      "text/html": [
       "<div>\n",
       "<table border=\"1\" class=\"dataframe\">\n",
       "  <thead>\n",
       "    <tr style=\"text-align: right;\">\n",
       "      <th></th>\n",
       "      <th>Canceled</th>\n",
       "      <th>Month</th>\n",
       "      <th>DepartureTime</th>\n",
       "      <th>UniqueCarrier</th>\n",
       "      <th>SchedElapsedTime</th>\n",
       "      <th>ArrDelay</th>\n",
       "      <th>DepDelay</th>\n",
       "      <th>Distance</th>\n",
       "    </tr>\n",
       "  </thead>\n",
       "  <tbody>\n",
       "    <tr>\n",
       "      <th>0</th>\n",
       "      <td>1</td>\n",
       "      <td>12</td>\n",
       "      <td>814</td>\n",
       "      <td>UA</td>\n",
       "      <td>134</td>\n",
       "      <td>0</td>\n",
       "      <td>0</td>\n",
       "      <td>679</td>\n",
       "    </tr>\n",
       "    <tr>\n",
       "      <th>1</th>\n",
       "      <td>1</td>\n",
       "      <td>12</td>\n",
       "      <td>830</td>\n",
       "      <td>DL</td>\n",
       "      <td>90</td>\n",
       "      <td>0</td>\n",
       "      <td>0</td>\n",
       "      <td>214</td>\n",
       "    </tr>\n",
       "    <tr>\n",
       "      <th>2</th>\n",
       "      <td>1</td>\n",
       "      <td>1</td>\n",
       "      <td>1835</td>\n",
       "      <td>UA</td>\n",
       "      <td>213</td>\n",
       "      <td>0</td>\n",
       "      <td>0</td>\n",
       "      <td>1605</td>\n",
       "    </tr>\n",
       "    <tr>\n",
       "      <th>3</th>\n",
       "      <td>1</td>\n",
       "      <td>4</td>\n",
       "      <td>1730</td>\n",
       "      <td>AA</td>\n",
       "      <td>80</td>\n",
       "      <td>0</td>\n",
       "      <td>0</td>\n",
       "      <td>235</td>\n",
       "    </tr>\n",
       "    <tr>\n",
       "      <th>4</th>\n",
       "      <td>1</td>\n",
       "      <td>7</td>\n",
       "      <td>1442</td>\n",
       "      <td>UA</td>\n",
       "      <td>103</td>\n",
       "      <td>0</td>\n",
       "      <td>0</td>\n",
       "      <td>413</td>\n",
       "    </tr>\n",
       "  </tbody>\n",
       "</table>\n",
       "</div>"
      ],
      "text/plain": [
       "   Canceled  Month  DepartureTime UniqueCarrier  SchedElapsedTime  ArrDelay  \\\n",
       "0         1     12            814            UA               134         0   \n",
       "1         1     12            830            DL                90         0   \n",
       "2         1      1           1835            UA               213         0   \n",
       "3         1      4           1730            AA                80         0   \n",
       "4         1      7           1442            UA               103         0   \n",
       "\n",
       "   DepDelay  Distance  \n",
       "0         0       679  \n",
       "1         0       214  \n",
       "2         0      1605  \n",
       "3         0       235  \n",
       "4         0       413  "
      ]
     },
     "execution_count": 28,
     "metadata": {},
     "output_type": "execute_result"
    }
   ],
   "source": [
    "df.head()"
   ]
  },
  {
   "cell_type": "markdown",
   "metadata": {},
   "source": [
    "###Exploration:"
   ]
  },
  {
   "cell_type": "code",
   "execution_count": 29,
   "metadata": {
    "collapsed": false
   },
   "outputs": [
    {
     "data": {
      "text/html": [
       "<div>\n",
       "<table border=\"1\" class=\"dataframe\">\n",
       "  <thead>\n",
       "    <tr style=\"text-align: right;\">\n",
       "      <th></th>\n",
       "      <th>Canceled</th>\n",
       "      <th>Month</th>\n",
       "      <th>DepartureTime</th>\n",
       "      <th>SchedElapsedTime</th>\n",
       "      <th>ArrDelay</th>\n",
       "      <th>DepDelay</th>\n",
       "      <th>Distance</th>\n",
       "    </tr>\n",
       "  </thead>\n",
       "  <tbody>\n",
       "    <tr>\n",
       "      <th>count</th>\n",
       "      <td>6000.000000</td>\n",
       "      <td>6000.000000</td>\n",
       "      <td>6000.000000</td>\n",
       "      <td>6000.000000</td>\n",
       "      <td>6000.000000</td>\n",
       "      <td>6000.000000</td>\n",
       "      <td>6000.000000</td>\n",
       "    </tr>\n",
       "    <tr>\n",
       "      <th>mean</th>\n",
       "      <td>0.166667</td>\n",
       "      <td>6.220167</td>\n",
       "      <td>1330.466500</td>\n",
       "      <td>161.693500</td>\n",
       "      <td>8.113000</td>\n",
       "      <td>9.148833</td>\n",
       "      <td>987.588833</td>\n",
       "    </tr>\n",
       "    <tr>\n",
       "      <th>std</th>\n",
       "      <td>0.372709</td>\n",
       "      <td>3.436325</td>\n",
       "      <td>459.118234</td>\n",
       "      <td>78.064979</td>\n",
       "      <td>35.763134</td>\n",
       "      <td>31.669299</td>\n",
       "      <td>646.666931</td>\n",
       "    </tr>\n",
       "    <tr>\n",
       "      <th>min</th>\n",
       "      <td>0.000000</td>\n",
       "      <td>1.000000</td>\n",
       "      <td>5.000000</td>\n",
       "      <td>40.000000</td>\n",
       "      <td>-72.000000</td>\n",
       "      <td>-16.000000</td>\n",
       "      <td>68.000000</td>\n",
       "    </tr>\n",
       "    <tr>\n",
       "      <th>25%</th>\n",
       "      <td>0.000000</td>\n",
       "      <td>3.000000</td>\n",
       "      <td>930.000000</td>\n",
       "      <td>105.000000</td>\n",
       "      <td>-8.000000</td>\n",
       "      <td>-3.000000</td>\n",
       "      <td>547.000000</td>\n",
       "    </tr>\n",
       "    <tr>\n",
       "      <th>50%</th>\n",
       "      <td>0.000000</td>\n",
       "      <td>6.000000</td>\n",
       "      <td>1325.000000</td>\n",
       "      <td>145.000000</td>\n",
       "      <td>0.000000</td>\n",
       "      <td>0.000000</td>\n",
       "      <td>837.000000</td>\n",
       "    </tr>\n",
       "    <tr>\n",
       "      <th>75%</th>\n",
       "      <td>0.000000</td>\n",
       "      <td>9.000000</td>\n",
       "      <td>1715.000000</td>\n",
       "      <td>200.000000</td>\n",
       "      <td>10.000000</td>\n",
       "      <td>6.000000</td>\n",
       "      <td>1249.000000</td>\n",
       "    </tr>\n",
       "    <tr>\n",
       "      <th>max</th>\n",
       "      <td>1.000000</td>\n",
       "      <td>12.000000</td>\n",
       "      <td>2359.000000</td>\n",
       "      <td>604.000000</td>\n",
       "      <td>410.000000</td>\n",
       "      <td>387.000000</td>\n",
       "      <td>4502.000000</td>\n",
       "    </tr>\n",
       "  </tbody>\n",
       "</table>\n",
       "</div>"
      ],
      "text/plain": [
       "          Canceled        Month  DepartureTime  SchedElapsedTime     ArrDelay  \\\n",
       "count  6000.000000  6000.000000    6000.000000       6000.000000  6000.000000   \n",
       "mean      0.166667     6.220167    1330.466500        161.693500     8.113000   \n",
       "std       0.372709     3.436325     459.118234         78.064979    35.763134   \n",
       "min       0.000000     1.000000       5.000000         40.000000   -72.000000   \n",
       "25%       0.000000     3.000000     930.000000        105.000000    -8.000000   \n",
       "50%       0.000000     6.000000    1325.000000        145.000000     0.000000   \n",
       "75%       0.000000     9.000000    1715.000000        200.000000    10.000000   \n",
       "max       1.000000    12.000000    2359.000000        604.000000   410.000000   \n",
       "\n",
       "          DepDelay     Distance  \n",
       "count  6000.000000  6000.000000  \n",
       "mean      9.148833   987.588833  \n",
       "std      31.669299   646.666931  \n",
       "min     -16.000000    68.000000  \n",
       "25%      -3.000000   547.000000  \n",
       "50%       0.000000   837.000000  \n",
       "75%       6.000000  1249.000000  \n",
       "max     387.000000  4502.000000  "
      ]
     },
     "execution_count": 29,
     "metadata": {},
     "output_type": "execute_result"
    }
   ],
   "source": [
    "df.describe()"
   ]
  },
  {
   "cell_type": "code",
   "execution_count": 30,
   "metadata": {
    "collapsed": false
   },
   "outputs": [
    {
     "data": {
      "text/plain": [
       "0    5000\n",
       "1    1000\n",
       "dtype: int64"
      ]
     },
     "execution_count": 30,
     "metadata": {},
     "output_type": "execute_result"
    }
   ],
   "source": [
    "df.Canceled.value_counts()"
   ]
  },
  {
   "cell_type": "markdown",
   "metadata": {},
   "source": [
    "###Definitely a class imbalance issue; as seen here and in the table, only 1/6 of flights (16.667%) are cancelled"
   ]
  },
  {
   "cell_type": "markdown",
   "metadata": {},
   "source": [
    "####Filter: Client only sells tickets for AA, UA and DL"
   ]
  },
  {
   "cell_type": "code",
   "execution_count": 31,
   "metadata": {
    "collapsed": false
   },
   "outputs": [
    {
     "name": "stdout",
     "output_type": "stream",
     "text": [
      "6000\n",
      "6000\n"
     ]
    }
   ],
   "source": [
    "print len(df)\n",
    "print len(df[df.UniqueCarrier.isin(['AA','UA','DL'])])"
   ]
  },
  {
   "cell_type": "markdown",
   "metadata": {},
   "source": [
    "####Conclusion: There is only data for these three airlines."
   ]
  },
  {
   "cell_type": "markdown",
   "metadata": {},
   "source": [
    "###Next: Train-Test Split"
   ]
  },
  {
   "cell_type": "code",
   "execution_count": 32,
   "metadata": {
    "collapsed": true
   },
   "outputs": [],
   "source": [
    "from sklearn.cross_validation import train_test_split"
   ]
  },
  {
   "cell_type": "code",
   "execution_count": 33,
   "metadata": {
    "collapsed": true
   },
   "outputs": [],
   "source": [
    "train_test_split?"
   ]
  },
  {
   "cell_type": "code",
   "execution_count": 34,
   "metadata": {
    "collapsed": false
   },
   "outputs": [],
   "source": [
    "#We don't know the Arrival Delay or Departure Delay ahead of time.\n",
    "X = df[['Month','DepartureTime','SchedElapsedTime','Distance']]\n",
    "y = df.Canceled"
   ]
  },
  {
   "cell_type": "code",
   "execution_count": 35,
   "metadata": {
    "collapsed": false
   },
   "outputs": [
    {
     "data": {
      "text/html": [
       "<div>\n",
       "<table border=\"1\" class=\"dataframe\">\n",
       "  <thead>\n",
       "    <tr style=\"text-align: right;\">\n",
       "      <th></th>\n",
       "      <th>Month</th>\n",
       "      <th>DepartureTime</th>\n",
       "      <th>SchedElapsedTime</th>\n",
       "      <th>Distance</th>\n",
       "    </tr>\n",
       "  </thead>\n",
       "  <tbody>\n",
       "    <tr>\n",
       "      <th>0</th>\n",
       "      <td>12</td>\n",
       "      <td>814</td>\n",
       "      <td>134</td>\n",
       "      <td>679</td>\n",
       "    </tr>\n",
       "    <tr>\n",
       "      <th>1</th>\n",
       "      <td>12</td>\n",
       "      <td>830</td>\n",
       "      <td>90</td>\n",
       "      <td>214</td>\n",
       "    </tr>\n",
       "    <tr>\n",
       "      <th>2</th>\n",
       "      <td>1</td>\n",
       "      <td>1835</td>\n",
       "      <td>213</td>\n",
       "      <td>1605</td>\n",
       "    </tr>\n",
       "    <tr>\n",
       "      <th>3</th>\n",
       "      <td>4</td>\n",
       "      <td>1730</td>\n",
       "      <td>80</td>\n",
       "      <td>235</td>\n",
       "    </tr>\n",
       "    <tr>\n",
       "      <th>4</th>\n",
       "      <td>7</td>\n",
       "      <td>1442</td>\n",
       "      <td>103</td>\n",
       "      <td>413</td>\n",
       "    </tr>\n",
       "  </tbody>\n",
       "</table>\n",
       "</div>"
      ],
      "text/plain": [
       "   Month  DepartureTime  SchedElapsedTime  Distance\n",
       "0     12            814               134       679\n",
       "1     12            830                90       214\n",
       "2      1           1835               213      1605\n",
       "3      4           1730                80       235\n",
       "4      7           1442               103       413"
      ]
     },
     "execution_count": 35,
     "metadata": {},
     "output_type": "execute_result"
    }
   ],
   "source": [
    "X.head()"
   ]
  },
  {
   "cell_type": "code",
   "execution_count": 36,
   "metadata": {
    "collapsed": false
   },
   "outputs": [
    {
     "data": {
      "text/plain": [
       "0    1\n",
       "1    1\n",
       "2    1\n",
       "3    1\n",
       "4    1\n",
       "Name: Canceled, dtype: int64"
      ]
     },
     "execution_count": 36,
     "metadata": {},
     "output_type": "execute_result"
    }
   ],
   "source": [
    "y.head()"
   ]
  },
  {
   "cell_type": "markdown",
   "metadata": {},
   "source": [
    "##A little exploration....\n",
    "##some hypotheses to test:\n",
    "###1. Are there months with more cancellations (winter perhaps?)\n",
    "###2. Are longer flights cancelled more frequently?\n",
    "###3. Are flights at a night cancelled more frequently than those in the day?"
   ]
  },
  {
   "cell_type": "code",
   "execution_count": 37,
   "metadata": {
    "collapsed": false
   },
   "outputs": [
    {
     "data": {
      "text/plain": [
       "Month\n",
       "1     0.228200\n",
       "2     0.245184\n",
       "3     0.249516\n",
       "4     0.250000\n",
       "5     0.126214\n",
       "6     0.131579\n",
       "7     0.175000\n",
       "8     0.139489\n",
       "9     0.084257\n",
       "10    0.035477\n",
       "11    0.078014\n",
       "12    0.192641\n",
       "Name: Canceled, dtype: float64"
      ]
     },
     "execution_count": 37,
     "metadata": {},
     "output_type": "execute_result"
    }
   ],
   "source": [
    "#1. Are there months with more cancellations (winter perhaps?)\n",
    "df.groupby('Month')['Canceled'].mean()"
   ]
  },
  {
   "cell_type": "markdown",
   "metadata": {},
   "source": [
    "####Yup! be careful December through April!"
   ]
  },
  {
   "cell_type": "code",
   "execution_count": 38,
   "metadata": {
    "collapsed": false
   },
   "outputs": [
    {
     "data": {
      "text/plain": [
       "<pandas.core.groupby.DataFrameGroupBy object at 0x113cdcb50>"
      ]
     },
     "execution_count": 38,
     "metadata": {},
     "output_type": "execute_result"
    }
   ],
   "source": [
    "#2. Are longer flights cancelled more frequently?\n",
    "df.groupby('Distance')"
   ]
  },
  {
   "cell_type": "code",
   "execution_count": 171,
   "metadata": {
    "collapsed": false
   },
   "outputs": [],
   "source": [
    "# 3. Are flights at a night cancelled more frequently than those in the day\n",
    "#Will use pandas groupby/cut feature to bin data"
   ]
  },
  {
   "cell_type": "code",
   "execution_count": 60,
   "metadata": {
    "collapsed": true
   },
   "outputs": [],
   "source": [
    "X_train, X_test, y_train, y_test = train_test_split(X, y, test_size=0.33)"
   ]
  },
  {
   "cell_type": "markdown",
   "metadata": {},
   "source": [
    "##Train Models"
   ]
  },
  {
   "cell_type": "code",
   "execution_count": 61,
   "metadata": {
    "collapsed": true
   },
   "outputs": [],
   "source": [
    "from sklearn.cross_validation import cross_val_score\n",
    "from sklearn.linear_model import LogisticRegression\n",
    "from sklearn.metrics import confusion_matrix"
   ]
  },
  {
   "cell_type": "code",
   "execution_count": 62,
   "metadata": {
    "collapsed": false
   },
   "outputs": [
    {
     "name": "stdout",
     "output_type": "stream",
     "text": [
      "0.831313131313\n"
     ]
    },
    {
     "data": {
      "text/plain": [
       "array([[1646,    0],\n",
       "       [ 334,    0]])"
      ]
     },
     "execution_count": 62,
     "metadata": {},
     "output_type": "execute_result"
    }
   ],
   "source": [
    "#### Logistic Regression \n",
    "lr = LogisticRegression()\n",
    "lr.fit(X_train, y_train)\n",
    "lr_pred = lr.predict(X_test)\n",
    "\n",
    "print 1.0*sum(lr_pred == y_test)/len(y_test)\n",
    "confusion_matrix(y_test, lr_pred)"
   ]
  },
  {
   "cell_type": "code",
   "execution_count": 63,
   "metadata": {
    "collapsed": false
   },
   "outputs": [
    {
     "data": {
      "image/png": "[encoded data removed]",
      "text/plain": [
       "<matplotlib.figure.Figure at 0x118085cd0>"
      ]
     },
     "metadata": {},
     "output_type": "display_data"
    }
   ],
   "source": [
    "# Generate a confusion matrix plot: \n",
    "\n",
    "def plot_confusion_matrix(cm,title='Confusion matrix', cmap=plt.cm.Reds):\n",
    "    plt.imshow(cm, interpolation='nearest',cmap=cmap)\n",
    "    plt.title(title)\n",
    "    plt.colorbar()\n",
    "    plt.tight_layout()\n",
    "    plt.ylabel('True label')\n",
    "    plt.xlabel('Predicted label')\n",
    "    \n",
    "cm=confusion_matrix(y_test, lr_pred, labels=None)\n",
    "plt.figure()\n",
    "plot_confusion_matrix(cm)"
   ]
  },
  {
   "cell_type": "markdown",
   "metadata": {},
   "source": [
    "###Currently the model is exclusively predicting 'No' as seen in the confusion matrix. It is thus trivial that it is ~83% accurate; ~83% of flights are not cancelled."
   ]
  },
  {
   "cell_type": "code",
   "execution_count": 45,
   "metadata": {
    "collapsed": false
   },
   "outputs": [
    {
     "name": "stdout",
     "output_type": "stream",
     "text": [
      "0.593939393939\n"
     ]
    },
    {
     "data": {
      "text/plain": [
       "array([[965, 679],\n",
       "       [125, 211]])"
      ]
     },
     "execution_count": 45,
     "metadata": {},
     "output_type": "execute_result"
    }
   ],
   "source": [
    "#### Logistic Regression \n",
    "lr = LogisticRegression(class_weight='balanced')\n",
    "lr.fit(X_train, y_train)\n",
    "lr_pred = lr.predict(X_test)\n",
    "\n",
    "print 1.0*sum(lr_pred == y_test)/len(y_test)\n",
    "confusion_matrix(y_test, lr_pred)"
   ]
  },
  {
   "cell_type": "markdown",
   "metadata": {},
   "source": [
    "##Some other classifiers..."
   ]
  },
  {
   "cell_type": "code",
   "execution_count": 46,
   "metadata": {
    "collapsed": true
   },
   "outputs": [],
   "source": [
    "from sklearn.naive_bayes import GaussianNB\n",
    "from sklearn.ensemble import RandomForestClassifier\n",
    "from sklearn.svm import LinearSVC\n",
    "from sklearn.calibration import calibration_curve"
   ]
  },
  {
   "cell_type": "code",
   "execution_count": 47,
   "metadata": {
    "collapsed": true
   },
   "outputs": [],
   "source": [
    "# Create classifiers\n",
    "gnb = GaussianNB()\n",
    "svc = LinearSVC(C=1.0)\n",
    "rfc = RandomForestClassifier(n_estimators=100)"
   ]
  },
  {
   "cell_type": "code",
   "execution_count": 48,
   "metadata": {
    "collapsed": false
   },
   "outputs": [
    {
     "name": "stdout",
     "output_type": "stream",
     "text": [
      "0.830303030303\n"
     ]
    },
    {
     "data": {
      "image/png": "[encoded data removed]",
      "text/plain": [
       "<matplotlib.figure.Figure at 0x1174f8a10>"
      ]
     },
     "metadata": {},
     "output_type": "display_data"
    }
   ],
   "source": [
    "#### Gaussian Naive Bayes\n",
    "gnb.fit(X_train, y_train)\n",
    "gnb_pred = gnb.predict(X_test)\n",
    "\n",
    "print 1.0*sum(gnb_pred == y_test)/len(y_test)\n",
    "confusion_matrix(y_test, gnb_pred)\n",
    "\n",
    "cm=confusion_matrix(y_test, gnb_pred, labels=None)\n",
    "plt.figure()\n",
    "plot_confusion_matrix(cm)"
   ]
  },
  {
   "cell_type": "code",
   "execution_count": 49,
   "metadata": {
    "collapsed": false
   },
   "outputs": [
    {
     "name": "stdout",
     "output_type": "stream",
     "text": [
      "0.184343434343\n"
     ]
    },
    {
     "data": {
      "image/png": "[encoded data removed]",
      "text/plain": [
       "<matplotlib.figure.Figure at 0x1175b7790>"
      ]
     },
     "metadata": {},
     "output_type": "display_data"
    }
   ],
   "source": [
    "#### SVC\n",
    "svc.fit(X_train, y_train)\n",
    "svc_pred = svc.predict(X_test)\n",
    "\n",
    "print 1.0*sum(svc_pred == y_test)/len(y_test)\n",
    "confusion_matrix(y_test, svc_pred)\n",
    "\n",
    "cm=confusion_matrix(y_test, svc_pred, labels=None)\n",
    "plt.figure()\n",
    "plot_confusion_matrix(cm)"
   ]
  },
  {
   "cell_type": "code",
   "execution_count": 50,
   "metadata": {
    "collapsed": false
   },
   "outputs": [
    {
     "data": {
      "text/plain": [
       "0    3356\n",
       "1     664\n",
       "dtype: int64"
      ]
     },
     "execution_count": 50,
     "metadata": {},
     "output_type": "execute_result"
    }
   ],
   "source": [
    "y_train.value_counts()"
   ]
  },
  {
   "cell_type": "code",
   "execution_count": 51,
   "metadata": {
    "collapsed": false
   },
   "outputs": [
    {
     "data": {
      "text/plain": [
       "0    1644\n",
       "1     336\n",
       "dtype: int64"
      ]
     },
     "execution_count": 51,
     "metadata": {},
     "output_type": "execute_result"
    }
   ],
   "source": [
    "y_test.value_counts()"
   ]
  },
  {
   "cell_type": "code",
   "execution_count": 52,
   "metadata": {
    "collapsed": false
   },
   "outputs": [
    {
     "data": {
      "text/plain": [
       "(array([0, 1]), array([  35, 1945]))"
      ]
     },
     "execution_count": 52,
     "metadata": {},
     "output_type": "execute_result"
    }
   ],
   "source": [
    "np.unique(svc_pred, return_counts=True)"
   ]
  },
  {
   "cell_type": "code",
   "execution_count": 53,
   "metadata": {
    "collapsed": false
   },
   "outputs": [
    {
     "name": "stdout",
     "output_type": "stream",
     "text": [
      "0.805555555556\n"
     ]
    },
    {
     "data": {
      "image/png": "[encoded data removed]",
      "text/plain": [
       "<matplotlib.figure.Figure at 0x117737810>"
      ]
     },
     "metadata": {},
     "output_type": "display_data"
    }
   ],
   "source": [
    "#### Random Forest\n",
    "rfc.fit(X_train, y_train)\n",
    "rfc_pred = rfc.predict(X_test)\n",
    "\n",
    "print 1.0*sum(rfc_pred == y_test)/len(y_test)\n",
    "\n",
    "cm=confusion_matrix(y_test, rfc_pred, labels=None)\n",
    "plt.figure()\n",
    "plot_confusion_matrix(cm)"
   ]
  },
  {
   "cell_type": "code",
   "execution_count": 54,
   "metadata": {
    "collapsed": false
   },
   "outputs": [
    {
     "data": {
      "text/plain": [
       "array([[1566,   78],\n",
       "       [ 307,   29]])"
      ]
     },
     "execution_count": 54,
     "metadata": {},
     "output_type": "execute_result"
    }
   ],
   "source": [
    "confusion_matrix(y_test, rfc_pred)"
   ]
  },
  {
   "cell_type": "markdown",
   "metadata": {},
   "source": [
    "###More Visualizations"
   ]
  },
  {
   "cell_type": "code",
   "execution_count": 55,
   "metadata": {
    "collapsed": false
   },
   "outputs": [
    {
     "data": {
      "image/png": "[encoded data removed]",
      "text/plain": [
       "<matplotlib.figure.Figure at 0x11457ad50>"
      ]
     },
     "metadata": {},
     "output_type": "display_data"
    }
   ],
   "source": [
    "plt.figure(figsize=(10, 10))\n",
    "ax1 = plt.subplot2grid((3, 1), (0, 0), rowspan=2)\n",
    "ax2 = plt.subplot2grid((3, 1), (2, 0))\n",
    "\n",
    "ax1.plot([0, 1], [0, 1], \"k:\", label=\"Perfectly calibrated\")\n",
    "for clf, name in [(lr, 'Logistic'),\n",
    "                  (gnb, 'Naive Bayes'),\n",
    "                  (svc, 'Support Vector Classification'),\n",
    "                  (rfc, 'Random Forest')]:\n",
    "    clf.fit(X_train, y_train)\n",
    "    if hasattr(clf, \"predict_proba\"):\n",
    "        prob_pos = clf.predict_proba(X_test)[:, 1]\n",
    "    else:  # use decision function\n",
    "        prob_pos = clf.decision_function(X_test)\n",
    "        prob_pos = \\\n",
    "            (prob_pos - prob_pos.min()) / (prob_pos.max() - prob_pos.min())\n",
    "    fraction_of_positives, mean_predicted_value = \\\n",
    "        calibration_curve(y_test, prob_pos, n_bins=10)\n",
    "\n",
    "    ax1.plot(mean_predicted_value, fraction_of_positives, \"s-\",\n",
    "             label=\"%s\" % (name, ))\n",
    "\n",
    "    ax2.hist(prob_pos, range=(0, 1), bins=10, label=name,\n",
    "             histtype=\"step\", lw=2)\n",
    "\n",
    "ax1.set_ylabel(\"Fraction of positives\")\n",
    "ax1.set_ylim([-0.05, 1.05])\n",
    "ax1.legend(loc=\"lower right\")\n",
    "ax1.set_title('Calibration plots  (reliability curve)')\n",
    "\n",
    "ax2.set_xlabel(\"Mean predicted value\")\n",
    "ax2.set_ylabel(\"Count\")\n",
    "ax2.legend(loc=\"upper center\", ncol=2)\n",
    "\n",
    "plt.tight_layout()\n",
    "plt.show()"
   ]
  },
  {
   "cell_type": "code",
   "execution_count": 56,
   "metadata": {
    "collapsed": false
   },
   "outputs": [],
   "source": [
    "X_train, X_test, Y_train, Y_test = train_test_split(X,y, random_state=4444)"
   ]
  },
  {
   "cell_type": "code",
   "execution_count": 57,
   "metadata": {
    "collapsed": false
   },
   "outputs": [
    {
     "name": "stdout",
     "output_type": "stream",
     "text": [
      "\n",
      "\n",
      "KNeighborsClassifier\n",
      "--------------------\n",
      "\n",
      "classification report\n",
      "             precision    recall  f1-score   support\n",
      "\n",
      "          0       0.83      0.99      0.90      1242\n",
      "          1       0.20      0.02      0.03       258\n",
      "\n",
      "avg / total       0.72      0.82      0.75      1500\n",
      "\n",
      "\n",
      "   accuracy score             0.8200 \n",
      "   precision score            0.2000 \n",
      "   recall score               0.0155 \n",
      "   f1 score                   0.0288 \n",
      "\n",
      "\n",
      "LogisticRegression\n",
      "--------------------\n",
      "\n",
      "classification report\n",
      "             precision    recall  f1-score   support\n",
      "\n",
      "          0       0.83      1.00      0.91      1242\n",
      "          1       0.00      0.00      0.00       258\n",
      "\n",
      "avg / total       0.69      0.83      0.75      1500\n",
      "\n",
      "\n",
      "   accuracy score             0.8280 \n",
      "   precision score            0.0000 \n",
      "   recall score               0.0000 \n",
      "   f1 score                   0.0000 \n",
      "\n",
      "\n",
      "SVC\n",
      "--------------------\n",
      "\n",
      "classification report\n",
      "             precision    recall  f1-score   support\n",
      "\n",
      "          0       0.83      1.00      0.91      1242\n",
      "          1       0.50      0.02      0.04       258\n",
      "\n",
      "avg / total       0.77      0.83      0.76      1500\n",
      "\n",
      "\n",
      "   accuracy score             0.8280 \n",
      "   precision score            0.5000 \n",
      "   recall score               0.0233 \n",
      "   f1 score                   0.0444 \n",
      "\n",
      "\n",
      "GaussianNB\n",
      "--------------------\n",
      "\n",
      "classification report\n",
      "             precision    recall  f1-score   support\n",
      "\n",
      "          0       0.83      1.00      0.91      1242\n",
      "          1       0.00      0.00      0.00       258\n",
      "\n",
      "avg / total       0.69      0.83      0.75      1500\n",
      "\n",
      "\n",
      "   accuracy score             0.8280 \n",
      "   precision score            0.0000 \n",
      "   recall score               0.0000 \n",
      "   f1 score                   0.0000 \n",
      "\n",
      "\n",
      "DecisionTreeClassifier\n",
      "--------------------\n",
      "\n",
      "classification report\n",
      "             precision    recall  f1-score   support\n",
      "\n",
      "          0       0.84      0.83      0.83      1242\n",
      "          1       0.22      0.24      0.23       258\n",
      "\n",
      "avg / total       0.73      0.73      0.73      1500\n",
      "\n",
      "\n",
      "   accuracy score             0.7273 \n",
      "   precision score            0.2234 \n",
      "   recall score               0.2364 \n",
      "   f1 score                   0.2298 \n",
      "\n",
      "\n",
      "RandomForestClassifier\n",
      "--------------------\n",
      "\n",
      "classification report\n",
      "             precision    recall  f1-score   support\n",
      "\n",
      "          0       0.84      0.94      0.89      1242\n",
      "          1       0.32      0.13      0.18       258\n",
      "\n",
      "avg / total       0.75      0.80      0.77      1500\n",
      "\n",
      "\n",
      "   accuracy score             0.8040 \n",
      "   precision score            0.3235 \n",
      "   recall score               0.1279 \n",
      "   f1 score                   0.1833 \n",
      "\n",
      "Present by Statistics to Compare Models\n",
      "\n",
      "Accuracy\n",
      "  LogisticRegression             0.8280\n",
      "  RandomForestClassifier         0.8040\n",
      "  GaussianNB                     0.8280\n",
      "  SVC                            0.8280\n",
      "  DecisionTreeClassifier         0.7273\n",
      "  KNeighborsClassifier           0.8200\n",
      "\n",
      "Precision\n",
      "  LogisticRegression             0.0000\n",
      "  RandomForestClassifier         0.3235\n",
      "  GaussianNB                     0.0000\n",
      "  SVC                            0.5000\n",
      "  DecisionTreeClassifier         0.2234\n",
      "  KNeighborsClassifier           0.2000\n",
      "\n",
      "Recall\n",
      "  LogisticRegression             0.0000\n",
      "  RandomForestClassifier         0.1279\n",
      "  GaussianNB                     0.0000\n",
      "  SVC                            0.0233\n",
      "  DecisionTreeClassifier         0.2364\n",
      "  KNeighborsClassifier           0.0155\n",
      "\n",
      "F1\n",
      "  LogisticRegression             0.0000\n",
      "  RandomForestClassifier         0.1833\n",
      "  GaussianNB                     0.0000\n",
      "  SVC                            0.0444\n",
      "  DecisionTreeClassifier         0.2298\n",
      "  KNeighborsClassifier           0.0288\n"
     ]
    },
    {
     "name": "stderr",
     "output_type": "stream",
     "text": [
      "/Users/matthewmitchell/anaconda/lib/python2.7/site-packages/sklearn/metrics/classification.py:1074: UndefinedMetricWarning: Precision is ill-defined and being set to 0.0 due to no predicted samples.\n",
      "  'precision', 'predicted', average, warn_for)\n",
      "/Users/matthewmitchell/anaconda/lib/python2.7/site-packages/sklearn/metrics/classification.py:1074: UndefinedMetricWarning: F-score is ill-defined and being set to 0.0 due to no predicted samples.\n",
      "  'precision', 'predicted', average, warn_for)\n",
      "/Users/matthewmitchell/anaconda/lib/python2.7/site-packages/sklearn/metrics/classification.py:1074: UndefinedMetricWarning: Precision and F-score are ill-defined and being set to 0.0 in labels with no predicted samples.\n",
      "  'precision', 'predicted', average, warn_for)\n"
     ]
    }
   ],
   "source": [
    "from sklearn.neighbors import KNeighborsClassifier\n",
    "from sklearn.linear_model import LogisticRegression\n",
    "from sklearn.svm import SVC\n",
    "from sklearn.naive_bayes import GaussianNB\n",
    "from sklearn.tree import DecisionTreeClassifier\n",
    "from sklearn.ensemble import RandomForestClassifier\n",
    "from sklearn.metrics import classification_report\n",
    "\n",
    "from sklearn.metrics import accuracy_score, precision_score, recall_score, f1_score\n",
    "from sklearn.cross_validation import cross_val_score\n",
    "    \n",
    "y_obs = Y_test\n",
    "\n",
    "accuracy_dict = dict()\n",
    "precision_dict = dict()\n",
    "recall_dict = dict()\n",
    "f1_dict = dict()\n",
    " \n",
    "for algorithm in [KNeighborsClassifier(n_neighbors=10),\n",
    "            LogisticRegression(C=0.001), \n",
    "            SVC(),  \n",
    "            GaussianNB(), \n",
    "            DecisionTreeClassifier(), \n",
    "            RandomForestClassifier()]:\n",
    "     \n",
    "    algorithm.fit(X_train, Y_train)\n",
    "    y_pred = algorithm.predict(X_test)\n",
    "    alg_label = str(algorithm)\n",
    "    alg_label = alg_label[:alg_label.index('(')]\n",
    "    \n",
    "    # create dictionary of stats\n",
    "    accuracy_dict[alg_label] = accuracy_score(y_obs, y_pred)\n",
    "    precision_dict[alg_label] = precision_score(y_obs, y_pred)\n",
    "    recall_dict[alg_label] = recall_score(y_obs, y_pred)\n",
    "    f1_dict[alg_label] = f1_score(y_obs, y_pred)\n",
    "\n",
    "    print '\\n'\n",
    "    print alg_label\n",
    "    print '-'*20\n",
    "    print\n",
    "    print \"classification report\"\n",
    "    print classification_report(y_obs, y_pred)\n",
    "    print\n",
    "    print '   accuracy score             %.4f ' % (accuracy_score(y_obs, y_pred))\n",
    "    print '   precision score            %.4f ' % precision_score(y_obs, y_pred)\n",
    "    print '   recall score               %.4f ' % recall_score(y_obs, y_pred)\n",
    "    print '   f1 score                   %.4f ' % f1_score(y_obs, y_pred)\n",
    "    \n",
    "    \n",
    "\n",
    "    \n",
    "def print_items(dictionary):\n",
    "    for k,v in dictionary.iteritems():\n",
    "        spaces = 30-len(k)\n",
    "        newclf = k + ' '*spaces\n",
    "        print '  %s %.4f' % (newclf, v)\n",
    "        \n",
    "\n",
    "print '\\nPresent by Statistics to Compare Models'\n",
    "\n",
    "print '\\nAccuracy'\n",
    "print_items(accuracy_dict)\n",
    "\n",
    "print '\\nPrecision'\n",
    "print_items(precision_dict)\n",
    "\n",
    "print '\\nRecall'\n",
    "print_items(recall_dict)\n",
    "\n",
    "print '\\nF1'\n",
    "print_items(f1_dict)\n",
    "    "
   ]
  },
  {
   "cell_type": "markdown",
   "metadata": {},
   "source": [
    "#Discussion/Commentary:\n",
    "###As we can see, all of our models are being affected by a class imbalance problem here; most flights aren't cancelled. That said, the cost of false-positives vs false-negatives is drastically different in this scenario as well; we'd much prefer to not buy a flight that ends up running as scheduled then accidently buy a flight that is cancelled. What this translates to in terms of our model, is we need to be a bit cautious with boundary cases. We would rather prune a little too much and install confidence that if we say a flight will run it indeed does. \n",
    "\n",
    "###Mathematically, we are asking how to reweight our cost function. So rather than be the most accurate of correctly predicting each and every flight we simply want to be super-duper confident that some flights will not be cancelled. Thus if we can find a demographic that has some correlation or a higher rate of cancellations than the general population, we should stray away from these areas and advise caution to customers considering purchasing such flights."
   ]
  },
  {
   "cell_type": "code",
   "execution_count": 64,
   "metadata": {
    "collapsed": false
   },
   "outputs": [
    {
     "name": "stdout",
     "output_type": "stream",
     "text": [
      "0.831313131313\n"
     ]
    },
    {
     "data": {
      "text/plain": [
       "array([[1646,    0],\n",
       "       [ 334,    0]])"
      ]
     },
     "execution_count": 64,
     "metadata": {},
     "output_type": "execute_result"
    }
   ],
   "source": [
    "#### Logistic Regression \n",
    "lr = LogisticRegression()\n",
    "lr.fit(X_train, y_train)\n",
    "lr_pred = lr.predict(X_test)\n",
    "\n",
    "print 1.0*sum(lr_pred == y_test)/len(y_test)\n",
    "confusion_matrix(y_test, lr_pred)"
   ]
  },
  {
   "cell_type": "code",
   "execution_count": 65,
   "metadata": {
    "collapsed": false
   },
   "outputs": [
    {
     "name": "stdout",
     "output_type": "stream",
     "text": [
      "0.831313131313\n"
     ]
    },
    {
     "data": {
      "text/plain": [
       "array([[1646,    0],\n",
       "       [ 334,    0]])"
      ]
     },
     "execution_count": 65,
     "metadata": {},
     "output_type": "execute_result"
    }
   ],
   "source": [
    "lr = LogisticRegression(penalty='l1')\n",
    "lr.fit(X_train, y_train)\n",
    "lr_pred = lr.predict(X_test)\n",
    "\n",
    "print 1.0*sum(lr_pred == y_test)/len(y_test)\n",
    "confusion_matrix(y_test, lr_pred)"
   ]
  },
  {
   "cell_type": "code",
   "execution_count": 66,
   "metadata": {
    "collapsed": true
   },
   "outputs": [],
   "source": [
    "probabilities = lr.predict_proba(X_test)"
   ]
  },
  {
   "cell_type": "code",
   "execution_count": 69,
   "metadata": {
    "collapsed": false
   },
   "outputs": [
    {
     "name": "stdout",
     "output_type": "stream",
     "text": [
      "[0.10720763923238157, 0.13802459391307847, 0.18140025482850478, 0.22921338500858304, 0.5, 0.77078661499141699, 0.81859974517149514, 0.86197540608692158, 0.89279236076761836]\n"
     ]
    }
   ],
   "source": [
    "print [np.percentile(probabilities, i*10) for i in range(1,10) ]"
   ]
  },
  {
   "cell_type": "code",
   "execution_count": 86,
   "metadata": {
    "collapsed": false
   },
   "outputs": [
    {
     "data": {
      "text/plain": [
       "1980"
      ]
     },
     "execution_count": 86,
     "metadata": {},
     "output_type": "execute_result"
    }
   ],
   "source": [
    "len(probabilities)"
   ]
  },
  {
   "cell_type": "code",
   "execution_count": 91,
   "metadata": {
    "collapsed": false
   },
   "outputs": [
    {
     "data": {
      "text/plain": [
       "array([ 0.91782192,  0.08217808])"
      ]
     },
     "execution_count": 91,
     "metadata": {},
     "output_type": "execute_result"
    }
   ],
   "source": [
    "probabilities[1]"
   ]
  },
  {
   "cell_type": "code",
   "execution_count": 103,
   "metadata": {
    "collapsed": false
   },
   "outputs": [],
   "source": [
    "canceled = [0 if i[0]>.75 else 1 for i in probabilities]"
   ]
  },
  {
   "cell_type": "code",
   "execution_count": 104,
   "metadata": {
    "collapsed": false
   },
   "outputs": [
    {
     "data": {
      "text/plain": [
       "1980"
      ]
     },
     "execution_count": 104,
     "metadata": {},
     "output_type": "execute_result"
    }
   ],
   "source": [
    "len(canceled)"
   ]
  },
  {
   "cell_type": "code",
   "execution_count": 105,
   "metadata": {
    "collapsed": false
   },
   "outputs": [
    {
     "data": {
      "text/plain": [
       "(array([0, 1]), array([1709,  271]))"
      ]
     },
     "execution_count": 105,
     "metadata": {},
     "output_type": "execute_result"
    }
   ],
   "source": [
    "np.unique(canceled, return_counts=True)"
   ]
  },
  {
   "cell_type": "code",
   "execution_count": 106,
   "metadata": {
    "collapsed": false
   },
   "outputs": [
    {
     "data": {
      "text/plain": [
       "(array([0, 1]), array([1646,  334]))"
      ]
     },
     "execution_count": 106,
     "metadata": {},
     "output_type": "execute_result"
    }
   ],
   "source": [
    "np.unique(y_test, return_counts=True)"
   ]
  },
  {
   "cell_type": "code",
   "execution_count": 107,
   "metadata": {
    "collapsed": false
   },
   "outputs": [
    {
     "name": "stdout",
     "output_type": "stream",
     "text": [
      "0.765151515152\n"
     ]
    }
   ],
   "source": [
    "print 1.0*sum(canceled == y_test)/len(y_test)"
   ]
  },
  {
   "cell_type": "code",
   "execution_count": 108,
   "metadata": {
    "collapsed": false
   },
   "outputs": [
    {
     "data": {
      "text/plain": [
       "array([[1445,  264],\n",
       "       [ 201,   70]])"
      ]
     },
     "execution_count": 108,
     "metadata": {},
     "output_type": "execute_result"
    }
   ],
   "source": [
    "confusion_matrix(canceled, y_test)"
   ]
  },
  {
   "cell_type": "code",
   "execution_count": 109,
   "metadata": {
    "collapsed": false
   },
   "outputs": [
    {
     "name": "stdout",
     "output_type": "stream",
     "text": [
      "(array([0, 1]), array([1969,   11]))\n"
     ]
    },
    {
     "data": {
      "text/plain": [
       "array([[1638,  331],\n",
       "       [   8,    3]])"
      ]
     },
     "execution_count": 109,
     "metadata": {},
     "output_type": "execute_result"
    }
   ],
   "source": [
    "canceled = [0 if i[0]>.65 else 1 for i in probabilities]\n",
    "print np.unique(canceled, return_counts=True)\n",
    "confusion_matrix(canceled, y_test)"
   ]
  },
  {
   "cell_type": "code",
   "execution_count": 111,
   "metadata": {
    "collapsed": false
   },
   "outputs": [
    {
     "name": "stdout",
     "output_type": "stream",
     "text": [
      "(array([0]), array([1980]))\n"
     ]
    },
    {
     "data": {
      "text/plain": [
       "array([[1646,  334],\n",
       "       [   0,    0]])"
      ]
     },
     "execution_count": 111,
     "metadata": {},
     "output_type": "execute_result"
    }
   ],
   "source": [
    "canceled = [0 if i[0]>.5 else 1 for i in probabilities]\n",
    "print np.unique(canceled, return_counts=True)\n",
    "confusion_matrix(canceled, y_test)"
   ]
  },
  {
   "cell_type": "markdown",
   "metadata": {},
   "source": [
    "##SVM Revisited; lowering c to maximize decision boundary"
   ]
  },
  {
   "cell_type": "code",
   "execution_count": 142,
   "metadata": {
    "collapsed": false
   },
   "outputs": [
    {
     "name": "stdout",
     "output_type": "stream",
     "text": [
      "0.826767676768\n"
     ]
    },
    {
     "data": {
      "image/png": "[encoded data removed]",
      "text/plain": [
       "<matplotlib.figure.Figure at 0x11a00df50>"
      ]
     },
     "metadata": {},
     "output_type": "display_data"
    }
   ],
   "source": [
    "#### SVM\n",
    "from sklearn.svm import SVC\n",
    "svc = SVC(kernel='rbf', gamma=10, C=250)\n",
    "svc.fit(X_train, y_train)\n",
    "svc_pred = svc.predict(X_test)\n",
    "\n",
    "print 1.0*sum(svc_pred == y_test)/len(y_test)\n",
    "confusion_matrix(y_test, svc_pred)\n",
    "\n",
    "cm=confusion_matrix(y_test, svc_pred, labels=None)\n",
    "plt.figure()\n",
    "plot_confusion_matrix(cm)"
   ]
  },
  {
   "cell_type": "code",
   "execution_count": 143,
   "metadata": {
    "collapsed": false
   },
   "outputs": [
    {
     "data": {
      "text/plain": [
       "array([[1627,   19],\n",
       "       [ 324,   10]])"
      ]
     },
     "execution_count": 143,
     "metadata": {},
     "output_type": "execute_result"
    }
   ],
   "source": [
    "cm"
   ]
  },
  {
   "cell_type": "code",
   "execution_count": 146,
   "metadata": {
    "collapsed": false
   },
   "outputs": [],
   "source": [
    "from sklearn.preprocessing import StandardScaler\n",
    "sc = StandardScaler()\n",
    "sc.fit(X)\n",
    "X_std = sc.transform(X)\n",
    "X_train, X_test, y_train, y_test = train_test_split(X_std, y, test_size=0.33)"
   ]
  },
  {
   "cell_type": "code",
   "execution_count": 147,
   "metadata": {
    "collapsed": false
   },
   "outputs": [
    {
     "name": "stdout",
     "output_type": "stream",
     "text": [
      "0.722222222222\n"
     ]
    },
    {
     "data": {
      "image/png": "[encoded data removed]",
      "text/plain": [
       "<matplotlib.figure.Figure at 0x11aae8d50>"
      ]
     },
     "metadata": {},
     "output_type": "display_data"
    }
   ],
   "source": [
    "#### SVM\n",
    "from sklearn.svm import SVC\n",
    "svc = SVC(kernel='rbf', gamma=10, C=250)\n",
    "svc.fit(X_train, y_train)\n",
    "svc_pred = svc.predict(X_test)\n",
    "\n",
    "print 1.0*sum(svc_pred == y_test)/len(y_test)\n",
    "confusion_matrix(y_test, svc_pred)\n",
    "\n",
    "cm=confusion_matrix(y_test, svc_pred, labels=None)\n",
    "plt.figure()\n",
    "plot_confusion_matrix(cm)"
   ]
  },
  {
   "cell_type": "code",
   "execution_count": 151,
   "metadata": {
    "collapsed": false
   },
   "outputs": [
    {
     "data": {
      "text/plain": [
       "array([[1359,  298],\n",
       "       [ 252,   71]])"
      ]
     },
     "execution_count": 151,
     "metadata": {},
     "output_type": "execute_result"
    }
   ],
   "source": [
    "cm"
   ]
  },
  {
   "cell_type": "code",
   "execution_count": 150,
   "metadata": {
    "collapsed": false
   },
   "outputs": [
    {
     "name": "stdout",
     "output_type": "stream",
     "text": [
      "0.836868686869\n"
     ]
    },
    {
     "data": {
      "text/plain": [
       "array([[1657,    0],\n",
       "       [ 323,    0]])"
      ]
     },
     "execution_count": 150,
     "metadata": {},
     "output_type": "execute_result"
    }
   ],
   "source": [
    "#### Logistic Regression \n",
    "lr = LogisticRegression()\n",
    "lr.fit(X_train, y_train)\n",
    "lr_pred = lr.predict(X_test)\n",
    "\n",
    "print 1.0*sum(lr_pred == y_test)/len(y_test)\n",
    "confusion_matrix(y_test, lr_pred)"
   ]
  },
  {
   "cell_type": "markdown",
   "metadata": {},
   "source": [
    "##Decision Trees"
   ]
  },
  {
   "cell_type": "code",
   "execution_count": 153,
   "metadata": {
    "collapsed": false
   },
   "outputs": [
    {
     "data": {
      "text/plain": [
       "array([[1657,    0],\n",
       "       [ 323,    0]])"
      ]
     },
     "execution_count": 153,
     "metadata": {},
     "output_type": "execute_result"
    }
   ],
   "source": [
    "from sklearn.tree import DecisionTreeClassifier\n",
    "tree = DecisionTreeClassifier(criterion='entropy', max_depth=3, random_state=0)\n",
    "tree.fit(X_train, y_train)\n",
    "tree_pred = tree.predict(X_test)\n",
    "\n",
    "confusion_matrix(y_test, tree_pred)"
   ]
  },
  {
   "cell_type": "markdown",
   "metadata": {},
   "source": [
    "##Resampling: Over/Undersamping to account for class imbalance..."
   ]
  },
  {
   "cell_type": "code",
   "execution_count": 163,
   "metadata": {
    "collapsed": true
   },
   "outputs": [],
   "source": [
    "from imblearn.over_sampling import RandomOverSampler"
   ]
  },
  {
   "cell_type": "code",
   "execution_count": 165,
   "metadata": {
    "collapsed": true
   },
   "outputs": [],
   "source": [
    "from sklearn.preprocessing import StandardScaler\n",
    "#Norm Data\n",
    "sc = StandardScaler()\n",
    "sc.fit(X)\n",
    "X_std = sc.transform(X)\n",
    "\n",
    "#Resample\n",
    "ros = RandomOverSampler()\n",
    "X_resampled, y_resampled = ros.fit_sample(X_std, y)\n",
    "\n",
    "#Test-Train Split\n",
    "X_train, X_test, y_train, y_test = train_test_split(X_resampled, y_resampled, test_size=0.33)"
   ]
  },
  {
   "cell_type": "code",
   "execution_count": 166,
   "metadata": {
    "collapsed": false
   },
   "outputs": [
    {
     "name": "stdout",
     "output_type": "stream",
     "text": [
      "0.604545454545\n"
     ]
    },
    {
     "data": {
      "text/plain": [
       "array([[ 950,  687],\n",
       "       [ 618, 1045]])"
      ]
     },
     "execution_count": 166,
     "metadata": {},
     "output_type": "execute_result"
    }
   ],
   "source": [
    "#### Logistic Regression \n",
    "lr = LogisticRegression()\n",
    "lr.fit(X_train, y_train)\n",
    "lr_pred = lr.predict(X_test)\n",
    "\n",
    "print 1.0*sum(lr_pred == y_test)/len(y_test)\n",
    "confusion_matrix(y_test, lr_pred)"
   ]
  },
  {
   "cell_type": "code",
   "execution_count": 167,
   "metadata": {
    "collapsed": false
   },
   "outputs": [
    {
     "name": "stdout",
     "output_type": "stream",
     "text": [
      "0.876363636364\n"
     ]
    },
    {
     "data": {
      "image/png": "[encoded data removed]",
      "text/plain": [
       "<matplotlib.figure.Figure at 0x11aae8ad0>"
      ]
     },
     "metadata": {},
     "output_type": "display_data"
    }
   ],
   "source": [
    "#### SVM\n",
    "from sklearn.svm import SVC\n",
    "svc = SVC(kernel='rbf', gamma=10, C=250)\n",
    "svc.fit(X_train, y_train)\n",
    "svc_pred = svc.predict(X_test)\n",
    "\n",
    "print 1.0*sum(svc_pred == y_test)/len(y_test)\n",
    "confusion_matrix(y_test, svc_pred)\n",
    "\n",
    "cm=confusion_matrix(y_test, svc_pred, labels=None)\n",
    "plt.figure()\n",
    "plot_confusion_matrix(cm)"
   ]
  },
  {
   "cell_type": "code",
   "execution_count": 168,
   "metadata": {
    "collapsed": false
   },
   "outputs": [
    {
     "data": {
      "text/plain": [
       "array([[1281,  356],\n",
       "       [  52, 1611]])"
      ]
     },
     "execution_count": 168,
     "metadata": {},
     "output_type": "execute_result"
    }
   ],
   "source": [
    "cm"
   ]
  },
  {
   "cell_type": "markdown",
   "metadata": {},
   "source": [
    "#Very nice! This is the best classifier to date!; Very few false negatives!! (This is when you tell someone to buy a flight but it is then canceled)"
   ]
  },
  {
   "cell_type": "code",
   "execution_count": 169,
   "metadata": {
    "collapsed": false
   },
   "outputs": [
    {
     "data": {
      "text/plain": [
       "10000"
      ]
     },
     "execution_count": 169,
     "metadata": {},
     "output_type": "execute_result"
    }
   ],
   "source": [
    "len(y_resampled)"
   ]
  },
  {
   "cell_type": "code",
   "execution_count": 170,
   "metadata": {
    "collapsed": false
   },
   "outputs": [
    {
     "data": {
      "text/plain": [
       "10000"
      ]
     },
     "execution_count": 170,
     "metadata": {},
     "output_type": "execute_result"
    }
   ],
   "source": [
    "len(X_resampled)"
   ]
  },
  {
   "cell_type": "markdown",
   "metadata": {},
   "source": [
    "##My custom resample"
   ]
  },
  {
   "cell_type": "code",
   "execution_count": 157,
   "metadata": {
    "collapsed": false
   },
   "outputs": [
    {
     "data": {
      "text/html": [
       "<div>\n",
       "<table border=\"1\" class=\"dataframe\">\n",
       "  <thead>\n",
       "    <tr style=\"text-align: right;\">\n",
       "      <th></th>\n",
       "      <th>Canceled</th>\n",
       "      <th>Month</th>\n",
       "      <th>DepartureTime</th>\n",
       "      <th>UniqueCarrier</th>\n",
       "      <th>SchedElapsedTime</th>\n",
       "      <th>ArrDelay</th>\n",
       "      <th>DepDelay</th>\n",
       "      <th>Distance</th>\n",
       "    </tr>\n",
       "  </thead>\n",
       "  <tbody>\n",
       "    <tr>\n",
       "      <th>0</th>\n",
       "      <td>1</td>\n",
       "      <td>12</td>\n",
       "      <td>814</td>\n",
       "      <td>UA</td>\n",
       "      <td>134</td>\n",
       "      <td>0</td>\n",
       "      <td>0</td>\n",
       "      <td>679</td>\n",
       "    </tr>\n",
       "    <tr>\n",
       "      <th>1</th>\n",
       "      <td>1</td>\n",
       "      <td>12</td>\n",
       "      <td>830</td>\n",
       "      <td>DL</td>\n",
       "      <td>90</td>\n",
       "      <td>0</td>\n",
       "      <td>0</td>\n",
       "      <td>214</td>\n",
       "    </tr>\n",
       "    <tr>\n",
       "      <th>2</th>\n",
       "      <td>1</td>\n",
       "      <td>1</td>\n",
       "      <td>1835</td>\n",
       "      <td>UA</td>\n",
       "      <td>213</td>\n",
       "      <td>0</td>\n",
       "      <td>0</td>\n",
       "      <td>1605</td>\n",
       "    </tr>\n",
       "    <tr>\n",
       "      <th>3</th>\n",
       "      <td>1</td>\n",
       "      <td>4</td>\n",
       "      <td>1730</td>\n",
       "      <td>AA</td>\n",
       "      <td>80</td>\n",
       "      <td>0</td>\n",
       "      <td>0</td>\n",
       "      <td>235</td>\n",
       "    </tr>\n",
       "    <tr>\n",
       "      <th>4</th>\n",
       "      <td>1</td>\n",
       "      <td>7</td>\n",
       "      <td>1442</td>\n",
       "      <td>UA</td>\n",
       "      <td>103</td>\n",
       "      <td>0</td>\n",
       "      <td>0</td>\n",
       "      <td>413</td>\n",
       "    </tr>\n",
       "  </tbody>\n",
       "</table>\n",
       "</div>"
      ],
      "text/plain": [
       "   Canceled  Month  DepartureTime UniqueCarrier  SchedElapsedTime  ArrDelay  \\\n",
       "0         1     12            814            UA               134         0   \n",
       "1         1     12            830            DL                90         0   \n",
       "2         1      1           1835            UA               213         0   \n",
       "3         1      4           1730            AA                80         0   \n",
       "4         1      7           1442            UA               103         0   \n",
       "\n",
       "   DepDelay  Distance  \n",
       "0         0       679  \n",
       "1         0       214  \n",
       "2         0      1605  \n",
       "3         0       235  \n",
       "4         0       413  "
      ]
     },
     "execution_count": 157,
     "metadata": {},
     "output_type": "execute_result"
    }
   ],
   "source": [
    "df.head()"
   ]
  },
  {
   "cell_type": "code",
   "execution_count": 159,
   "metadata": {
    "collapsed": false
   },
   "outputs": [],
   "source": [
    "Canceled = df[df.Canceled==1]\n",
    "Flew = df[df.Canceled==0]"
   ]
  },
  {
   "cell_type": "code",
   "execution_count": 162,
   "metadata": {
    "collapsed": false
   },
   "outputs": [],
   "source": [
    "Xpos = Canceled[['Month','DepartureTime','SchedElapsedTime','Distance']]\n",
    "Xneg = Flew[['Month','DepartureTime','SchedElapsedTime','Distance']]\n",
    "ypos = Canceled.Canceled\n",
    "yneg = Flew.Canceled"
   ]
  },
  {
   "cell_type": "code",
   "execution_count": null,
   "metadata": {
    "collapsed": true
   },
   "outputs": [],
   "source": [
    "from sklearn.preprocessing import StandardScaler\n",
    "sc = StandardScaler()\n",
    "sc.fit(X)\n",
    "X_std = sc.transform(X)\n",
    "X_train, X_test, y_train, y_test = train_test_split(X_std, y, test_size=0.33)"
   ]
  },
  {
   "cell_type": "code",
   "execution_count": null,
   "metadata": {
    "collapsed": true
   },
   "outputs": [],
   "source": []
  }
 ],
 "metadata": {
  "kernelspec": {
   "display_name": "Python 2",
   "language": "python",
   "name": "python2"
  },
  "language_info": {
   "codemirror_mode": {
    "name": "ipython",
    "version": 2
   },
   "file_extension": ".py",
   "mimetype": "text/x-python",
   "name": "python",
   "nbconvert_exporter": "python",
   "pygments_lexer": "ipython2",
   "version": "2.7.12"
  }
 },
 "nbformat": 4,
 "nbformat_minor": 0
}
